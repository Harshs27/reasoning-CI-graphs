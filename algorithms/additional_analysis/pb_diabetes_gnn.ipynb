{
  "cells": [
    {
      "cell_type": "markdown",
      "source": [
        "### Running `node2vec`  on pubmed diabetes data "
      ],
      "metadata": {
        "nteract": {
          "transient": {
            "deleting": false
          }
        }
      }
    },
    {
      "cell_type": "code",
      "source": [
        "%load_ext autoreload\n",
        "%autoreload 2\n",
        "\n",
        "from scripts import helper_scripts as sga\n",
        "from scripts import testing_utils as tu\n",
        "from scripts.uGLAD import main as uG\n",
        "from scripts.helper_scripts import process_table, get_partial_correlations, precision_empty, uGLAD_graph\n",
        "from analytics_utils import get_partial_correlations_from_graph, set_node_attributes"
      ],
      "outputs": [
        {
          "output_type": "stream",
          "name": "stderr",
          "text": "/anaconda/envs/ngm/lib/python3.8/site-packages/tqdm/auto.py:22: TqdmWarning: IProgress not found. Please update jupyter and ipywidgets. See https://ipywidgets.readthedocs.io/en/stable/user_install.html\n  from .autonotebook import tqdm as notebook_tqdm\n"
        }
      ],
      "execution_count": 1,
      "metadata": {
        "gather": {
          "logged": 1681861508247
        }
      }
    },
    {
      "cell_type": "code",
      "source": [
        "import numpy as np\n",
        "import pandas as pd"
      ],
      "outputs": [],
      "execution_count": 2,
      "metadata": {
        "gather": {
          "logged": 1681861510251
        }
      }
    },
    {
      "cell_type": "code",
      "source": [
        "file = \"../../../../externalData/Pubmed-Diabetes/data/Pubmed-Diabetes.NODE.paper.tab\"\r\n",
        "\r\n",
        "fh = open(file, \"r\")\r\n",
        "index = 0\r\n",
        "\r\n",
        "datapoints = []\r\n",
        "while 1:\r\n",
        "    line = fh.readline()\r\n",
        "    if not line:\r\n",
        "        break\r\n",
        "    index += 1\r\n",
        "    if index < 3:\r\n",
        "        continue\r\n",
        "    fields = line.split('\\t')\r\n",
        "    datapoints.append([int(fields[0]), int(fields[1][-1])]) # paperID, label\r\n",
        "\r\n",
        "paper_cat = pd.DataFrame(datapoints, columns = ['paperID', 'label'])\r\n",
        "paper_cat"
      ],
      "outputs": [
        {
          "output_type": "execute_result",
          "execution_count": 3,
          "data": {
            "text/plain": "        paperID  label\n0      12187484      1\n1       2344352      1\n2      14654069      1\n3      16443886      2\n4       2684155      1\n...         ...    ...\n19712  17559889      3\n19713   8792097      2\n19714  17934141      1\n19715  18673544      3\n19716  18564175      3\n\n[19717 rows x 2 columns]",
            "text/html": "<div>\n<style scoped>\n    .dataframe tbody tr th:only-of-type {\n        vertical-align: middle;\n    }\n\n    .dataframe tbody tr th {\n        vertical-align: top;\n    }\n\n    .dataframe thead th {\n        text-align: right;\n    }\n</style>\n<table border=\"1\" class=\"dataframe\">\n  <thead>\n    <tr style=\"text-align: right;\">\n      <th></th>\n      <th>paperID</th>\n      <th>label</th>\n    </tr>\n  </thead>\n  <tbody>\n    <tr>\n      <th>0</th>\n      <td>12187484</td>\n      <td>1</td>\n    </tr>\n    <tr>\n      <th>1</th>\n      <td>2344352</td>\n      <td>1</td>\n    </tr>\n    <tr>\n      <th>2</th>\n      <td>14654069</td>\n      <td>1</td>\n    </tr>\n    <tr>\n      <th>3</th>\n      <td>16443886</td>\n      <td>2</td>\n    </tr>\n    <tr>\n      <th>4</th>\n      <td>2684155</td>\n      <td>1</td>\n    </tr>\n    <tr>\n      <th>...</th>\n      <td>...</td>\n      <td>...</td>\n    </tr>\n    <tr>\n      <th>19712</th>\n      <td>17559889</td>\n      <td>3</td>\n    </tr>\n    <tr>\n      <th>19713</th>\n      <td>8792097</td>\n      <td>2</td>\n    </tr>\n    <tr>\n      <th>19714</th>\n      <td>17934141</td>\n      <td>1</td>\n    </tr>\n    <tr>\n      <th>19715</th>\n      <td>18673544</td>\n      <td>3</td>\n    </tr>\n    <tr>\n      <th>19716</th>\n      <td>18564175</td>\n      <td>3</td>\n    </tr>\n  </tbody>\n</table>\n<p>19717 rows × 2 columns</p>\n</div>"
          },
          "metadata": {}
        }
      ],
      "execution_count": 3,
      "metadata": {
        "jupyter": {
          "source_hidden": false,
          "outputs_hidden": false
        },
        "nteract": {
          "transient": {
            "deleting": false
          }
        },
        "gather": {
          "logged": 1681861512260
        }
      }
    },
    {
      "cell_type": "code",
      "source": [
        "paper_cat['label'].value_counts()"
      ],
      "outputs": [
        {
          "output_type": "execute_result",
          "execution_count": 5,
          "data": {
            "text/plain": "2    7875\n3    7739\n1    4103\nName: label, dtype: int64"
          },
          "metadata": {}
        }
      ],
      "execution_count": 5,
      "metadata": {
        "jupyter": {
          "source_hidden": false,
          "outputs_hidden": false
        },
        "nteract": {
          "transient": {
            "deleting": false
          }
        },
        "gather": {
          "logged": 1681861543319
        }
      }
    },
    {
      "cell_type": "code",
      "source": [
        "cat_list = paper_cat['label'].unique()\n",
        "print(cat_list)"
      ],
      "outputs": [
        {
          "output_type": "stream",
          "name": "stdout",
          "text": "[1 2 3]\n"
        }
      ],
      "execution_count": 6,
      "metadata": {
        "gather": {
          "logged": 1681861556247
        }
      }
    },
    {
      "cell_type": "code",
      "source": [
        "import pickle\n",
        "\n",
        "fh = open(\"diabetes_files/pubmed_graph_test.pkl\", \"rb\")\n",
        "G = pickle.load(fh)\n",
        "# fh = open(\"diabetes_files/pubmed_edges.pkl\", \"rb\")\n",
        "# G_graph_edge_list = pickle.load(fh)\n"
      ],
      "outputs": [],
      "execution_count": 13,
      "metadata": {
        "gather": {
          "logged": 1681861695245
        }
      }
    },
    {
      "cell_type": "code",
      "source": [
        "G.nodes(data=True)"
      ],
      "outputs": [
        {
          "output_type": "execute_result",
          "execution_count": 14,
          "data": {
            "text/plain": "NodeDataView({2401586: {}, 17277038: {}, 1107095: {}, 10860187: {}, 17261860: {}, 10459555: {}, 16731860: {}, 16804063: {}, 18828242: {}, 3019804: {}, 1551486: {}, 16776847: {}, 12921782: {}, 8593944: {}, 16813601: {}, 12637977: {}, 14532170: {}, 18981116: {}, 11815512: {}, 11829539: {}, 2533036: {}, 12823237: {}, 8012717: {}, 3214432: {}, 8606491: {}, 2908044: {}, 12453967: {}, 7859932: {}, 1727730: {}, 3371576: {}, 17130480: {}, 12814458: {}, 10643211: {}, 2670641: {}, 8349034: {}, 16123336: {}, 12856125: {}, 3054559: {}, 7309132: {}, 3402522: {}, 12546277: {}, 8432410: {}, 7937925: {}, 18840781: {}, 6384267: {}, 2253403: {}, 8098666: {}, 8477801: {}, 2043812: {}, 12077744: {}, 8593939: {}, 12200073: {}, 15919812: {}, 9049484: {}, 15196191: {}, 11358432: {}, 9754819: {}, 11295462: {}, 15867184: {}, 15999801: {}, 17353506: {}, 6369965: {}, 14646372: {}, 18299186: {}, 12107720: {}, 7861877: {}, 15855328: {}, 1971659: {}, 18556337: {}, 14510863: {}, 12136407: {}, 6441449: {}, 11318596: {}, 15239916: {}, 17854943: {}, 18611098: {}, 8918580: {}, 18926825: {}, 17337769: {}, 10990077: {}, 15078673: {}, 9270377: {}, 10230651: {}, 11359854: {}, 19956094: {}, 17652266: {}, 3401138: {}, 14657831: {}, 7821143: {}, 6455904: {}, 12370118: {}, 19075293: {}, 6480821: {}, 10479395: {}, 9169130: {}, 2705555: {}, 17130187: {}, 3304893: {}, 10819238: {}, 1979939: {}, 17192335: {}, 8894169: {}, 19421404: {}, 2785066: {}, 7665557: {}, 12830456: {}, 2662408: {}, 18469204: {}, 2443959: {}, 523486: {}, 3512601: {}, 15283737: {}, 12753807: {}, 12438293: {}, 15843527: {}, 17971426: {}, 15182254: {}, 6224017: {}, 16123484: {}, 3652479: {}, 6337900: {}, 3275554: {}, 11529255: {}, 16249537: {}, 8001712: {}, 1864484: {}, 2970980: {}, 4014496: {}, 16484636: {}, 3734097: {}, 1576804: {}, 2316671: {}, 8932998: {}, 15331525: {}, 9783862: {}, 18165214: {}, 16229747: {}, 3512204: {}, 2991051: {}, 1513106: {}, 14709195: {}, 11869302: {}, 3106122: {}, 9486993: {}, 12173692: {}, 7587846: {}, 16902319: {}, 15811566: {}, 16452547: {}, 12799126: {}, 9354805: {}, 8163058: {}, 7860730: {}, 8945470: {}, 2104183: {}, 11466099: {}, 7772705: {}, 7486814: {}, 17037117: {}, 8590785: {}, 399256: {}, 3516607: {}, 9247907: {}, 9541507: {}, 15277417: {}, 6216134: {}, 16988486: {}, 9550126: {}, 17028899: {}, 12379578: {}, 3411516: {}, 6354788: {}, 6426472: {}, 2263632: {}, 10371569: {}, 10561135: {}, 1970710: {}, 9440478: {}, 17255204: {}, 11324686: {}, 15968442: {}, 8259274: {}, 15607400: {}, 12860309: {}, 15505007: {}, 2184066: {}, 10363652: {}, 12618085: {}, 11244033: {}, 18781141: {}, 14514569: {}, 19114721: {}, 2663991: {}, 17826042: {}, 8263954: {}, 17977959: {}, 11679436: {}, 2412918: {}, 16895987: {}, 18330949: {}, 7903490: {}, 6377892: {}, 15161759: {}, 18201210: {}, 9392499: {}, 18937674: {}, 9709964: {}, 15850551: {}, 6123513: {}, 8696962: {}, 15889479: {}, 8478620: {}, 2648146: {}, 7298798: {}, 12774166: {}, 11206410: {}, 1312572: {}, 1432481: {}, 7686860: {}, 18423055: {}, 17462080: {}, 12413715: {}, 7926297: {}, 12086942: {}, 11552145: {}, 15514499: {}, 3109992: {}, 8148782: {}, 12861410: {}, 3281897: {}, 3391344: {}, 15306833: {}, 17616607: {}, 1916057: {}, 7043169: {}, 7011725: {}, 12390307: {}, 9568689: {}, 3084324: {}, 17273962: {}, 10884714: {}, 9836525: {}, 1531718: {}, 9614604: {}, 17315602: {}, 15727946: {}, 2187469: {}, 16893854: {}, 11090238: {}, 12606535: {}, 10344174: {}, 9223388: {}, 16371537: {}, 14578226: {}, 10907121: {}, 8163045: {}, 10391392: {}, 6652356: {}, 9212307: {}, 2441214: {}, 18406405: {}, 19159454: {}, 17130554: {}, 15317604: {}, 19465231: {}, 1401385: {}, 3514330: {}, 7743762: {}, 7860729: {}, 1592883: {}, 11869047: {}, 1679332: {}, 15149729: {}, 9653606: {}, 1832743: {}, 12587011: {}, 15793182: {}, 3384186: {}, 10937511: {}, 9833944: {}, 18591387: {}, 8281733: {}, 10510950: {}, 9492122: {}, 15627647: {}, 8255932: {}, 15200747: {}, 3011872: {}, 6411398: {}, 1899428: {}, 8387089: {}, 16367876: {}, 11549316: {}, 12882863: {}, 2656272: {}, 18773191: {}, 8720416: {}, 15386808: {}, 2002657: {}, 9562318: {}})"
          },
          "metadata": {}
        }
      ],
      "execution_count": 14,
      "metadata": {
        "jupyter": {
          "source_hidden": false,
          "outputs_hidden": false
        },
        "nteract": {
          "transient": {
            "deleting": false
          }
        },
        "gather": {
          "logged": 1681861699252
        }
      }
    },
    {
      "cell_type": "code",
      "source": [
        "# G_uGLAD = G.copy()\r\n",
        "# G = G_uGLAD.copy()\r\n",
        "print(len(G.edges()))"
      ],
      "outputs": [
        {
          "output_type": "stream",
          "name": "stdout",
          "text": "44724\n"
        }
      ],
      "execution_count": 15,
      "metadata": {
        "jupyter": {
          "source_hidden": false,
          "outputs_hidden": false
        },
        "nteract": {
          "transient": {
            "deleting": false
          }
        },
        "gather": {
          "logged": 1681861704206
        }
      }
    },
    {
      "cell_type": "markdown",
      "source": [
        "#  Running GNN \r\n",
        "1. Run node2vec\r\n",
        "2. Train a MLP on known labels\r\n",
        "3. Predict the labels for the test data\r\n",
        "\r\n",
        "### Take care of negative weights in G"
      ],
      "metadata": {
        "nteract": {
          "transient": {
            "deleting": false
          }
        }
      }
    },
    {
      "cell_type": "code",
      "source": [
        "# G.edges(data=True)"
      ],
      "outputs": [],
      "execution_count": 17,
      "metadata": {
        "jupyter": {
          "source_hidden": false,
          "outputs_hidden": false
        },
        "nteract": {
          "transient": {
            "deleting": false
          }
        },
        "gather": {
          "logged": 1681861715203
        }
      }
    },
    {
      "cell_type": "code",
      "source": [
        "# Dropping the negative correlations\r\n",
        "def drop_neg_edges(G):\r\n",
        "    remove_edges = []\r\n",
        "    for i, e in enumerate(G.edges(data=True)):\r\n",
        "        if e[2]['color'] == 'red':\r\n",
        "            remove_edges.append(e)\r\n",
        "    print(f'Red edges removed {len(remove_edges)}')\r\n",
        "    G.remove_edges_from(remove_edges)\r\n",
        "    return G\r\n",
        "G = drop_neg_edges(G) # Graph prepared for node2vec with positive edges"
      ],
      "outputs": [
        {
          "output_type": "stream",
          "name": "stdout",
          "text": "Red edges removed 24038\n"
        }
      ],
      "execution_count": 16,
      "metadata": {
        "jupyter": {
          "source_hidden": false,
          "outputs_hidden": false
        },
        "nteract": {
          "transient": {
            "deleting": false
          }
        },
        "gather": {
          "logged": 1681861711197
        }
      }
    },
    {
      "cell_type": "markdown",
      "source": [
        "### Run node2vec "
      ],
      "metadata": {
        "nteract": {
          "transient": {
            "deleting": false
          }
        }
      }
    },
    {
      "cell_type": "markdown",
      "source": [],
      "metadata": {
        "nteract": {
          "transient": {
            "deleting": false
          }
        }
      }
    },
    {
      "cell_type": "code",
      "source": [
        "from node2vec import Node2Vec\r\n",
        "# Precompute probabilities and generate walks - **ON WINDOWS ONLY WORKS WITH workers=1**\r\n",
        "node2vec = Node2Vec(G, dimensions=64, walk_length=30, num_walks=200, workers=64, weight_key='weight', p=1, q=2)  # Use temp_folder for big graphs\r\n",
        "# Embed nodes\r\n",
        "model = node2vec.fit(window=10, min_count=1, batch_words=4)  # Any keywords acceptable by gensim.Word2Vec can be passed, `dimensions` and `workers` are automatically passed (from the Node2Vec constructor)\r\n",
        "# Save embeddings for later use\r\n",
        "folder='../../../../externalData/Pubmed-Diabetes/'\r\n",
        "model.wv.save_word2vec_format(folder + \"node_embeddings_64\")\r\n",
        "# Save model for later use\r\n",
        "model.save(folder + \"node2vec_model_64\")"
      ],
      "outputs": [
        {
          "output_type": "stream",
          "name": "stderr",
          "text": "Computing transition probabilities: 100%|██████████| 300/300 [00:15<00:00, 18.78it/s]\n"
        }
      ],
      "execution_count": 18,
      "metadata": {
        "jupyter": {
          "source_hidden": false,
          "outputs_hidden": false
        },
        "nteract": {
          "transient": {
            "deleting": false
          }
        },
        "gather": {
          "logged": 1681861845566
        }
      }
    },
    {
      "cell_type": "markdown",
      "source": [
        "### Load the node2vec model\r\n",
        "- If already pretrained"
      ],
      "metadata": {
        "nteract": {
          "transient": {
            "deleting": false
          }
        }
      }
    },
    {
      "cell_type": "code",
      "source": [
        "# # Loading the node2vec model \r\n",
        "# import gensim\r\n",
        "# # model = gensim.models.Word2Vec.load(folder + \"cora/node2vec_model\")\r\n",
        "# model = gensim.models.Word2Vec.load(folder + \"cora/node2vec_model_64\")"
      ],
      "outputs": [],
      "execution_count": 13,
      "metadata": {
        "jupyter": {
          "source_hidden": false,
          "outputs_hidden": false
        },
        "nteract": {
          "transient": {
            "deleting": false
          }
        },
        "gather": {
          "logged": 1681856481899
        }
      }
    },
    {
      "cell_type": "markdown",
      "source": [
        "### Get the node embeddings of graph "
      ],
      "metadata": {
        "nteract": {
          "transient": {
            "deleting": false
          }
        }
      }
    },
    {
      "cell_type": "code",
      "source": [
        "# Getting the embeddings of all the nodes in graph G\r\n",
        "print(f'embedding size {model.vector_size}')\r\n",
        "list_nodes = list(map(str, G.nodes()))\r\n",
        "embeddings = np.array(model.wv.__getitem__(list_nodes))\r\n",
        "print(embeddings.shape)\r\n",
        "# Create a node:embedding dict\r\n",
        "node_embedding_dict = {n:embeddings[i, :] for i, n in enumerate(list_nodes)}"
      ],
      "outputs": [
        {
          "output_type": "stream",
          "name": "stdout",
          "text": "embedding size 64\n(300, 64)\n"
        }
      ],
      "execution_count": 19,
      "metadata": {
        "jupyter": {
          "source_hidden": false,
          "outputs_hidden": false
        },
        "nteract": {
          "transient": {
            "deleting": false
          }
        },
        "gather": {
          "logged": 1681861845859
        }
      }
    },
    {
      "cell_type": "markdown",
      "source": [
        "### Get the class labels for the nodes"
      ],
      "metadata": {
        "nteract": {
          "transient": {
            "deleting": false
          }
        }
      }
    },
    {
      "cell_type": "code",
      "source": [
        "# Get labels/classes for all the nodes \r\n",
        "def get_all_labels(G, paper_cat):\r\n",
        "    # creating the node:label dictionary - 1022969: 'Case_Based', 143801: 'Neural_Networks', 612306: 'Rule_Learning',..\r\n",
        "    unknown_cat = 'not available'\r\n",
        "    node_attribute_dict = {str(n):unknown_cat for n in G.nodes()}\r\n",
        "    # setting the known classes\r\n",
        "    node_attribute_known = {}\r\n",
        "    attribute_values = {}\r\n",
        "    for n in G.nodes:\r\n",
        "        attr = paper_cat[paper_cat['paperID']==n].label.iloc[0]\r\n",
        "        node_attribute_known[str(n)] = attr\r\n",
        "        if attr in attribute_values:\r\n",
        "            attribute_values[attr] += 1\r\n",
        "        else:\r\n",
        "            attribute_values[attr] = 1\r\n",
        "    node_attribute_dict = set_node_attributes(node_attribute_dict, node_attribute_known)\r\n",
        "    return node_attribute_dict\r\n",
        "node_label_dict = get_all_labels(G, paper_cat)"
      ],
      "outputs": [],
      "execution_count": 21,
      "metadata": {
        "jupyter": {
          "source_hidden": false,
          "outputs_hidden": false
        },
        "nteract": {
          "transient": {
            "deleting": false
          }
        },
        "gather": {
          "logged": 1681861871317
        }
      }
    },
    {
      "cell_type": "markdown",
      "source": [
        "### Prepare the input data for the classifier"
      ],
      "metadata": {
        "nteract": {
          "transient": {
            "deleting": false
          }
        }
      }
    },
    {
      "cell_type": "code",
      "source": [
        "# Preparing the input data for the MLP to predict the classes\r\n",
        "# Features are node embeddings, predictions are the class labels\r\n",
        "X, y = [], []\r\n",
        "for n in G.nodes():\r\n",
        "    n = str(n)\r\n",
        "    X.append(node_embedding_dict[n])\r\n",
        "    y.append(node_label_dict[n])\r\n",
        "X = pd.DataFrame(X)\r\n",
        "# y = pd.get_dummies(pd.DataFrame(y, columns=['class']))\r\n",
        "y = pd.DataFrame(y, columns=['class'])\r\n",
        "print(X, y)"
      ],
      "outputs": [
        {
          "output_type": "stream",
          "name": "stdout",
          "text": "           0         1         2         3         4         5         6   \\\n0   -0.151729 -0.517408 -0.066847  0.168869 -0.219188  0.457198 -0.407433   \n1   -0.003977 -0.296986  0.162149  0.002492 -0.448699  0.266657  0.094966   \n2   -0.053012  0.095236  0.493257  0.011922 -0.156093  0.127414  0.007349   \n3    0.062232  0.142866  0.085899  0.048084  0.235555  0.012092 -0.507567   \n4    0.112578 -0.038089  0.314876 -0.027883 -0.036866  0.218854  0.483599   \n..        ...       ...       ...       ...       ...       ...       ...   \n295  0.003339 -0.265717 -0.070580 -0.072964  0.081308 -0.105798 -0.233518   \n296  0.121748 -0.214194 -0.222019  0.157270 -0.205384 -0.115900 -0.155127   \n297 -0.227092  0.096758  0.093378 -0.503574 -0.201245 -0.505726 -0.106383   \n298  0.061585 -0.071133  0.179004  0.090919  0.501293  0.175256 -0.018622   \n299  0.159938 -0.218695 -0.193433 -0.008247 -0.158755 -0.111667  0.091431   \n\n           7         8         9   ...        54        55        56  \\\n0   -0.040287 -0.046717 -0.170313  ... -0.070885  0.036025  0.007151   \n1   -0.322997  0.034208  0.048333  ...  0.117245 -0.563376  0.489028   \n2   -0.249635 -0.038225  0.361592  ...  0.271684  0.315374  0.261136   \n3    0.084329 -0.176906 -0.246822  ...  0.364721  0.040385  0.490187   \n4    0.037624 -0.185452 -0.357649  ...  0.543704  0.491873 -0.066588   \n..        ...       ...       ...  ...       ...       ...       ...   \n295 -0.339739 -0.328012  0.172614  ...  0.139281  0.227333  0.209958   \n296 -0.103862 -0.092460  0.069362  ...  0.267349 -0.128768  0.001964   \n297  0.125399 -0.351726 -0.219011  ... -0.052579  0.137339  0.231928   \n298 -0.118059 -0.239303 -0.460649  ... -0.004122  0.339018 -0.258025   \n299  0.143823 -0.010665 -0.118626  ...  0.069355 -0.083640  0.202708   \n\n           57        58        59        60        61        62        63  \n0    0.146241 -0.035878 -0.210646 -0.175328  0.031036 -0.075546 -0.218302  \n1   -0.404101 -0.210499  0.093907 -0.064684  0.005082 -0.200676 -0.422412  \n2    0.179823  0.440435 -0.193990  0.032525 -0.318046 -0.164262 -0.231319  \n3   -0.346722 -0.189989 -0.015304 -0.248597  0.215702  0.013553  0.012253  \n4    0.012411 -0.532806  0.300756 -0.169994  0.220148  0.107838 -0.001841  \n..        ...       ...       ...       ...       ...       ...       ...  \n295 -0.113588 -0.137351  0.050489 -0.534194 -0.422495  0.289064  0.142900  \n296 -0.074490  0.017765 -0.117502 -0.044382 -0.044113  0.148904  0.381478  \n297 -0.184660  0.095701 -0.043126  0.432309 -0.064393  0.542713  0.361536  \n298 -0.653338 -0.358135  0.329464 -0.240207 -0.234787  0.175239 -0.149432  \n299 -0.056898 -0.116379 -0.035964  0.019458 -0.113641  0.168666  0.075422  \n\n[300 rows x 64 columns]      class\n0        3\n1        3\n2        2\n3        3\n4        3\n..     ...\n295      2\n296      1\n297      1\n298      1\n299      1\n\n[300 rows x 1 columns]\n"
        }
      ],
      "execution_count": 22,
      "metadata": {
        "jupyter": {
          "source_hidden": false,
          "outputs_hidden": false
        },
        "nteract": {
          "transient": {
            "deleting": false
          }
        },
        "gather": {
          "logged": 1681861875852
        }
      }
    },
    {
      "cell_type": "markdown",
      "source": [
        "### Fit a MLP "
      ],
      "metadata": {
        "nteract": {
          "transient": {
            "deleting": false
          }
        }
      }
    },
    {
      "cell_type": "code",
      "source": [
        "# Fitting a MLP and masking entries \r\n",
        "from sklearn.neural_network import MLPClassifier\r\n",
        "from sklearn.linear_model import LogisticRegression\r\n",
        "from sklearn.model_selection import train_test_split\r\n",
        "from sklearn.model_selection import cross_validate, cross_val_score \r\n",
        "\r\n",
        "def run_node2vec_analysis(X, y):\r\n",
        "    results={}  # masked entries: accuracy\r\n",
        "    for masked_entries in range(10, 250, 10):\r\n",
        "        test_size = masked_entries/len(G.nodes())\r\n",
        "        print(f'Num of masked entries {masked_entries}, test size {test_size}')\r\n",
        "        # Split the data\r\n",
        "        X_train, X_test, y_train, y_test = train_test_split(X, y, test_size=test_size, random_state=42)\r\n",
        "        # fit the mlp\r\n",
        "        clf = LogisticRegression(multi_class='ovr', solver='liblinear')\r\n",
        "        # clf = MLPClassifier(random_state=1, max_iter=500, hidden_layer_sizes=(50))\r\n",
        "\r\n",
        "        clf = clf.fit(X_train, y_train)\r\n",
        "\r\n",
        "        # Optionally, we can do CV and get the multiple estimators\r\n",
        "        # cv_results = cross_val_score(clf, X_train, y_train, cv=5)\r\n",
        "        # cv_results = cross_validate(clf, X_train, y_train, return_train_score=True, return_estimator=True)\r\n",
        "        # print(cv_results)\r\n",
        "        \r\n",
        "        # y_test_pred = clf.predict(X_test)\r\n",
        "        # # print(y_test_pred)\r\n",
        "        # Check the diversity of the predictions\r\n",
        "        print(f'train accuracy {clf.score(X_train, y_train)}')\r\n",
        "        test_accuracy = clf.score(X_test, y_test)\r\n",
        "        results[masked_entries] = test_accuracy\r\n",
        "        print(f'test accuracy {test_accuracy}\\n')\r\n",
        "    return results\r\n",
        "\r\n",
        "def run_node2vec_analysis_paper(X, y, REPEAT=50):\r\n",
        "    results={}  # masked entries: accuracy\r\n",
        "    num_nodes = X.shape[0]\r\n",
        "    for masked_entries in [0.2, 0.4, 0.6]: # 20%, 40%, 60%\r\n",
        "        masked_entries = int(masked_entries * num_nodes)\r\n",
        "        print(f'Num of masked entries {masked_entries}, repeat {REPEAT} times')\r\n",
        "        results[masked_entries] = {}\r\n",
        "        acc_tr, acc_test = [], []\r\n",
        "        for _ in range(REPEAT):\r\n",
        "            test_size = masked_entries/len(G.nodes())\r\n",
        "            # , test size {test_size}')\r\n",
        "            # Split the data\r\n",
        "            X_train, X_test, y_train, y_test = train_test_split(X, y, test_size=test_size)#, random_state=42)\r\n",
        "            # fit the mlp\r\n",
        "            clf = LogisticRegression(multi_class='ovr', solver='liblinear')\r\n",
        "            # clf = MLPClassifier(random_state=1, max_iter=500, hidden_layer_sizes=(50))\r\n",
        "            clf = clf.fit(X_train, y_train)\r\n",
        "            acc_tr.append(clf.score(X_train, y_train))\r\n",
        "            acc_test.append(clf.score(X_test, y_test))\r\n",
        "        results[masked_entries]['train'] = [np.mean(acc_tr), np.std(acc_tr)]\r\n",
        "        results[masked_entries]['test'] = [np.mean(acc_test), np.std(acc_test)]\r\n",
        "    print(f'Results {results}\\n')\r\n",
        "    return results\r\n",
        "\r\n",
        "# results_n2v = run_node2vec_analysis(X, y)\r\n",
        "results_n2v_diabetes = run_node2vec_analysis_paper(X, y)"
      ],
      "outputs": [
        {
          "output_type": "stream",
          "name": "stdout",
          "text": "Num of masked entries 60, repeat 50 times\nNum of masked entries 120, repeat 50 times\nNum of masked entries 180, repeat 50 times\nResults {60: {'train': [0.7794166666666666, 0.01807411439354944], 'test': [0.5740000000000001, 0.06575712889109439]}, 120: {'train': [0.8145555555555555, 0.020813397869261938], 'test': [0.5429999999999999, 0.043216509191125865]}, 180: {'train': [0.8631666666666667, 0.02661922863896198], 'test': [0.5147777777777777, 0.03362116470393884]}}\n\n"
        },
        {
          "output_type": "stream",
          "name": "stderr",
          "text": "/anaconda/envs/ngm/lib/python3.8/site-packages/sklearn/utils/validation.py:1111: DataConversionWarning: A column-vector y was passed when a 1d array was expected. Please change the shape of y to (n_samples, ), for example using ravel().\n  y = column_or_1d(y, warn=True)\n/anaconda/envs/ngm/lib/python3.8/site-packages/sklearn/utils/validation.py:1111: DataConversionWarning: A column-vector y was passed when a 1d array was expected. Please change the shape of y to (n_samples, ), for example using ravel().\n  y = column_or_1d(y, warn=True)\n/anaconda/envs/ngm/lib/python3.8/site-packages/sklearn/utils/validation.py:1111: DataConversionWarning: A column-vector y was passed when a 1d array was expected. Please change the shape of y to (n_samples, ), for example using ravel().\n  y = column_or_1d(y, warn=True)\n/anaconda/envs/ngm/lib/python3.8/site-packages/sklearn/utils/validation.py:1111: DataConversionWarning: A column-vector y was passed when a 1d array was expected. Please change the shape of y to (n_samples, ), for example using ravel().\n  y = column_or_1d(y, warn=True)\n/anaconda/envs/ngm/lib/python3.8/site-packages/sklearn/utils/validation.py:1111: DataConversionWarning: A column-vector y was passed when a 1d array was expected. Please change the shape of y to (n_samples, ), for example using ravel().\n  y = column_or_1d(y, warn=True)\n/anaconda/envs/ngm/lib/python3.8/site-packages/sklearn/utils/validation.py:1111: DataConversionWarning: A column-vector y was passed when a 1d array was expected. Please change the shape of y to (n_samples, ), for example using ravel().\n  y = column_or_1d(y, warn=True)\n/anaconda/envs/ngm/lib/python3.8/site-packages/sklearn/utils/validation.py:1111: DataConversionWarning: A column-vector y was passed when a 1d array was expected. Please change the shape of y to (n_samples, ), for example using ravel().\n  y = column_or_1d(y, warn=True)\n/anaconda/envs/ngm/lib/python3.8/site-packages/sklearn/utils/validation.py:1111: DataConversionWarning: A column-vector y was passed when a 1d array was expected. Please change the shape of y to (n_samples, ), for example using ravel().\n  y = column_or_1d(y, warn=True)\n/anaconda/envs/ngm/lib/python3.8/site-packages/sklearn/utils/validation.py:1111: DataConversionWarning: A column-vector y was passed when a 1d array was expected. Please change the shape of y to (n_samples, ), for example using ravel().\n  y = column_or_1d(y, warn=True)\n/anaconda/envs/ngm/lib/python3.8/site-packages/sklearn/utils/validation.py:1111: DataConversionWarning: A column-vector y was passed when a 1d array was expected. Please change the shape of y to (n_samples, ), for example using ravel().\n  y = column_or_1d(y, warn=True)\n/anaconda/envs/ngm/lib/python3.8/site-packages/sklearn/utils/validation.py:1111: DataConversionWarning: A column-vector y was passed when a 1d array was expected. Please change the shape of y to (n_samples, ), for example using ravel().\n  y = column_or_1d(y, warn=True)\n/anaconda/envs/ngm/lib/python3.8/site-packages/sklearn/utils/validation.py:1111: DataConversionWarning: A column-vector y was passed when a 1d array was expected. Please change the shape of y to (n_samples, ), for example using ravel().\n  y = column_or_1d(y, warn=True)\n/anaconda/envs/ngm/lib/python3.8/site-packages/sklearn/utils/validation.py:1111: DataConversionWarning: A column-vector y was passed when a 1d array was expected. Please change the shape of y to (n_samples, ), for example using ravel().\n  y = column_or_1d(y, warn=True)\n/anaconda/envs/ngm/lib/python3.8/site-packages/sklearn/utils/validation.py:1111: DataConversionWarning: A column-vector y was passed when a 1d array was expected. Please change the shape of y to (n_samples, ), for example using ravel().\n  y = column_or_1d(y, warn=True)\n/anaconda/envs/ngm/lib/python3.8/site-packages/sklearn/utils/validation.py:1111: DataConversionWarning: A column-vector y was passed when a 1d array was expected. Please change the shape of y to (n_samples, ), for example using ravel().\n  y = column_or_1d(y, warn=True)\n/anaconda/envs/ngm/lib/python3.8/site-packages/sklearn/utils/validation.py:1111: DataConversionWarning: A column-vector y was passed when a 1d array was expected. Please change the shape of y to (n_samples, ), for example using ravel().\n  y = column_or_1d(y, warn=True)\n/anaconda/envs/ngm/lib/python3.8/site-packages/sklearn/utils/validation.py:1111: DataConversionWarning: A column-vector y was passed when a 1d array was expected. Please change the shape of y to (n_samples, ), for example using ravel().\n  y = column_or_1d(y, warn=True)\n/anaconda/envs/ngm/lib/python3.8/site-packages/sklearn/utils/validation.py:1111: DataConversionWarning: A column-vector y was passed when a 1d array was expected. Please change the shape of y to (n_samples, ), for example using ravel().\n  y = column_or_1d(y, warn=True)\n/anaconda/envs/ngm/lib/python3.8/site-packages/sklearn/utils/validation.py:1111: DataConversionWarning: A column-vector y was passed when a 1d array was expected. Please change the shape of y to (n_samples, ), for example using ravel().\n  y = column_or_1d(y, warn=True)\n/anaconda/envs/ngm/lib/python3.8/site-packages/sklearn/utils/validation.py:1111: DataConversionWarning: A column-vector y was passed when a 1d array was expected. Please change the shape of y to (n_samples, ), for example using ravel().\n  y = column_or_1d(y, warn=True)\n/anaconda/envs/ngm/lib/python3.8/site-packages/sklearn/utils/validation.py:1111: DataConversionWarning: A column-vector y was passed when a 1d array was expected. Please change the shape of y to (n_samples, ), for example using ravel().\n  y = column_or_1d(y, warn=True)\n/anaconda/envs/ngm/lib/python3.8/site-packages/sklearn/utils/validation.py:1111: DataConversionWarning: A column-vector y was passed when a 1d array was expected. Please change the shape of y to (n_samples, ), for example using ravel().\n  y = column_or_1d(y, warn=True)\n/anaconda/envs/ngm/lib/python3.8/site-packages/sklearn/utils/validation.py:1111: DataConversionWarning: A column-vector y was passed when a 1d array was expected. Please change the shape of y to (n_samples, ), for example using ravel().\n  y = column_or_1d(y, warn=True)\n/anaconda/envs/ngm/lib/python3.8/site-packages/sklearn/utils/validation.py:1111: DataConversionWarning: A column-vector y was passed when a 1d array was expected. Please change the shape of y to (n_samples, ), for example using ravel().\n  y = column_or_1d(y, warn=True)\n/anaconda/envs/ngm/lib/python3.8/site-packages/sklearn/utils/validation.py:1111: DataConversionWarning: A column-vector y was passed when a 1d array was expected. Please change the shape of y to (n_samples, ), for example using ravel().\n  y = column_or_1d(y, warn=True)\n/anaconda/envs/ngm/lib/python3.8/site-packages/sklearn/utils/validation.py:1111: DataConversionWarning: A column-vector y was passed when a 1d array was expected. Please change the shape of y to (n_samples, ), for example using ravel().\n  y = column_or_1d(y, warn=True)\n/anaconda/envs/ngm/lib/python3.8/site-packages/sklearn/utils/validation.py:1111: DataConversionWarning: A column-vector y was passed when a 1d array was expected. Please change the shape of y to (n_samples, ), for example using ravel().\n  y = column_or_1d(y, warn=True)\n/anaconda/envs/ngm/lib/python3.8/site-packages/sklearn/utils/validation.py:1111: DataConversionWarning: A column-vector y was passed when a 1d array was expected. Please change the shape of y to (n_samples, ), for example using ravel().\n  y = column_or_1d(y, warn=True)\n/anaconda/envs/ngm/lib/python3.8/site-packages/sklearn/utils/validation.py:1111: DataConversionWarning: A column-vector y was passed when a 1d array was expected. Please change the shape of y to (n_samples, ), for example using ravel().\n  y = column_or_1d(y, warn=True)\n/anaconda/envs/ngm/lib/python3.8/site-packages/sklearn/utils/validation.py:1111: DataConversionWarning: A column-vector y was passed when a 1d array was expected. Please change the shape of y to (n_samples, ), for example using ravel().\n  y = column_or_1d(y, warn=True)\n/anaconda/envs/ngm/lib/python3.8/site-packages/sklearn/utils/validation.py:1111: DataConversionWarning: A column-vector y was passed when a 1d array was expected. Please change the shape of y to (n_samples, ), for example using ravel().\n  y = column_or_1d(y, warn=True)\n/anaconda/envs/ngm/lib/python3.8/site-packages/sklearn/utils/validation.py:1111: DataConversionWarning: A column-vector y was passed when a 1d array was expected. Please change the shape of y to (n_samples, ), for example using ravel().\n  y = column_or_1d(y, warn=True)\n/anaconda/envs/ngm/lib/python3.8/site-packages/sklearn/utils/validation.py:1111: DataConversionWarning: A column-vector y was passed when a 1d array was expected. Please change the shape of y to (n_samples, ), for example using ravel().\n  y = column_or_1d(y, warn=True)\n/anaconda/envs/ngm/lib/python3.8/site-packages/sklearn/utils/validation.py:1111: DataConversionWarning: A column-vector y was passed when a 1d array was expected. Please change the shape of y to (n_samples, ), for example using ravel().\n  y = column_or_1d(y, warn=True)\n/anaconda/envs/ngm/lib/python3.8/site-packages/sklearn/utils/validation.py:1111: DataConversionWarning: A column-vector y was passed when a 1d array was expected. Please change the shape of y to (n_samples, ), for example using ravel().\n  y = column_or_1d(y, warn=True)\n/anaconda/envs/ngm/lib/python3.8/site-packages/sklearn/utils/validation.py:1111: DataConversionWarning: A column-vector y was passed when a 1d array was expected. Please change the shape of y to (n_samples, ), for example using ravel().\n  y = column_or_1d(y, warn=True)\n/anaconda/envs/ngm/lib/python3.8/site-packages/sklearn/utils/validation.py:1111: DataConversionWarning: A column-vector y was passed when a 1d array was expected. Please change the shape of y to (n_samples, ), for example using ravel().\n  y = column_or_1d(y, warn=True)\n/anaconda/envs/ngm/lib/python3.8/site-packages/sklearn/utils/validation.py:1111: DataConversionWarning: A column-vector y was passed when a 1d array was expected. Please change the shape of y to (n_samples, ), for example using ravel().\n  y = column_or_1d(y, warn=True)\n/anaconda/envs/ngm/lib/python3.8/site-packages/sklearn/utils/validation.py:1111: DataConversionWarning: A column-vector y was passed when a 1d array was expected. Please change the shape of y to (n_samples, ), for example using ravel().\n  y = column_or_1d(y, warn=True)\n/anaconda/envs/ngm/lib/python3.8/site-packages/sklearn/utils/validation.py:1111: DataConversionWarning: A column-vector y was passed when a 1d array was expected. Please change the shape of y to (n_samples, ), for example using ravel().\n  y = column_or_1d(y, warn=True)\n/anaconda/envs/ngm/lib/python3.8/site-packages/sklearn/utils/validation.py:1111: DataConversionWarning: A column-vector y was passed when a 1d array was expected. Please change the shape of y to (n_samples, ), for example using ravel().\n  y = column_or_1d(y, warn=True)\n/anaconda/envs/ngm/lib/python3.8/site-packages/sklearn/utils/validation.py:1111: DataConversionWarning: A column-vector y was passed when a 1d array was expected. Please change the shape of y to (n_samples, ), for example using ravel().\n  y = column_or_1d(y, warn=True)\n/anaconda/envs/ngm/lib/python3.8/site-packages/sklearn/utils/validation.py:1111: DataConversionWarning: A column-vector y was passed when a 1d array was expected. Please change the shape of y to (n_samples, ), for example using ravel().\n  y = column_or_1d(y, warn=True)\n/anaconda/envs/ngm/lib/python3.8/site-packages/sklearn/utils/validation.py:1111: DataConversionWarning: A column-vector y was passed when a 1d array was expected. Please change the shape of y to (n_samples, ), for example using ravel().\n  y = column_or_1d(y, warn=True)\n/anaconda/envs/ngm/lib/python3.8/site-packages/sklearn/utils/validation.py:1111: DataConversionWarning: A column-vector y was passed when a 1d array was expected. Please change the shape of y to (n_samples, ), for example using ravel().\n  y = column_or_1d(y, warn=True)\n/anaconda/envs/ngm/lib/python3.8/site-packages/sklearn/utils/validation.py:1111: DataConversionWarning: A column-vector y was passed when a 1d array was expected. Please change the shape of y to (n_samples, ), for example using ravel().\n  y = column_or_1d(y, warn=True)\n/anaconda/envs/ngm/lib/python3.8/site-packages/sklearn/utils/validation.py:1111: DataConversionWarning: A column-vector y was passed when a 1d array was expected. Please change the shape of y to (n_samples, ), for example using ravel().\n  y = column_or_1d(y, warn=True)\n/anaconda/envs/ngm/lib/python3.8/site-packages/sklearn/utils/validation.py:1111: DataConversionWarning: A column-vector y was passed when a 1d array was expected. Please change the shape of y to (n_samples, ), for example using ravel().\n  y = column_or_1d(y, warn=True)\n/anaconda/envs/ngm/lib/python3.8/site-packages/sklearn/utils/validation.py:1111: DataConversionWarning: A column-vector y was passed when a 1d array was expected. Please change the shape of y to (n_samples, ), for example using ravel().\n  y = column_or_1d(y, warn=True)\n/anaconda/envs/ngm/lib/python3.8/site-packages/sklearn/utils/validation.py:1111: DataConversionWarning: A column-vector y was passed when a 1d array was expected. Please change the shape of y to (n_samples, ), for example using ravel().\n  y = column_or_1d(y, warn=True)\n/anaconda/envs/ngm/lib/python3.8/site-packages/sklearn/utils/validation.py:1111: DataConversionWarning: A column-vector y was passed when a 1d array was expected. Please change the shape of y to (n_samples, ), for example using ravel().\n  y = column_or_1d(y, warn=True)\n/anaconda/envs/ngm/lib/python3.8/site-packages/sklearn/utils/validation.py:1111: DataConversionWarning: A column-vector y was passed when a 1d array was expected. Please change the shape of y to (n_samples, ), for example using ravel().\n  y = column_or_1d(y, warn=True)\n/anaconda/envs/ngm/lib/python3.8/site-packages/sklearn/utils/validation.py:1111: DataConversionWarning: A column-vector y was passed when a 1d array was expected. Please change the shape of y to (n_samples, ), for example using ravel().\n  y = column_or_1d(y, warn=True)\n/anaconda/envs/ngm/lib/python3.8/site-packages/sklearn/utils/validation.py:1111: DataConversionWarning: A column-vector y was passed when a 1d array was expected. Please change the shape of y to (n_samples, ), for example using ravel().\n  y = column_or_1d(y, warn=True)\n/anaconda/envs/ngm/lib/python3.8/site-packages/sklearn/utils/validation.py:1111: DataConversionWarning: A column-vector y was passed when a 1d array was expected. Please change the shape of y to (n_samples, ), for example using ravel().\n  y = column_or_1d(y, warn=True)\n/anaconda/envs/ngm/lib/python3.8/site-packages/sklearn/utils/validation.py:1111: DataConversionWarning: A column-vector y was passed when a 1d array was expected. Please change the shape of y to (n_samples, ), for example using ravel().\n  y = column_or_1d(y, warn=True)\n/anaconda/envs/ngm/lib/python3.8/site-packages/sklearn/utils/validation.py:1111: DataConversionWarning: A column-vector y was passed when a 1d array was expected. Please change the shape of y to (n_samples, ), for example using ravel().\n  y = column_or_1d(y, warn=True)\n/anaconda/envs/ngm/lib/python3.8/site-packages/sklearn/utils/validation.py:1111: DataConversionWarning: A column-vector y was passed when a 1d array was expected. Please change the shape of y to (n_samples, ), for example using ravel().\n  y = column_or_1d(y, warn=True)\n/anaconda/envs/ngm/lib/python3.8/site-packages/sklearn/utils/validation.py:1111: DataConversionWarning: A column-vector y was passed when a 1d array was expected. Please change the shape of y to (n_samples, ), for example using ravel().\n  y = column_or_1d(y, warn=True)\n/anaconda/envs/ngm/lib/python3.8/site-packages/sklearn/utils/validation.py:1111: DataConversionWarning: A column-vector y was passed when a 1d array was expected. Please change the shape of y to (n_samples, ), for example using ravel().\n  y = column_or_1d(y, warn=True)\n/anaconda/envs/ngm/lib/python3.8/site-packages/sklearn/utils/validation.py:1111: DataConversionWarning: A column-vector y was passed when a 1d array was expected. Please change the shape of y to (n_samples, ), for example using ravel().\n  y = column_or_1d(y, warn=True)\n/anaconda/envs/ngm/lib/python3.8/site-packages/sklearn/utils/validation.py:1111: DataConversionWarning: A column-vector y was passed when a 1d array was expected. Please change the shape of y to (n_samples, ), for example using ravel().\n  y = column_or_1d(y, warn=True)\n/anaconda/envs/ngm/lib/python3.8/site-packages/sklearn/utils/validation.py:1111: DataConversionWarning: A column-vector y was passed when a 1d array was expected. Please change the shape of y to (n_samples, ), for example using ravel().\n  y = column_or_1d(y, warn=True)\n/anaconda/envs/ngm/lib/python3.8/site-packages/sklearn/utils/validation.py:1111: DataConversionWarning: A column-vector y was passed when a 1d array was expected. Please change the shape of y to (n_samples, ), for example using ravel().\n  y = column_or_1d(y, warn=True)\n/anaconda/envs/ngm/lib/python3.8/site-packages/sklearn/utils/validation.py:1111: DataConversionWarning: A column-vector y was passed when a 1d array was expected. Please change the shape of y to (n_samples, ), for example using ravel().\n  y = column_or_1d(y, warn=True)\n/anaconda/envs/ngm/lib/python3.8/site-packages/sklearn/utils/validation.py:1111: DataConversionWarning: A column-vector y was passed when a 1d array was expected. Please change the shape of y to (n_samples, ), for example using ravel().\n  y = column_or_1d(y, warn=True)\n/anaconda/envs/ngm/lib/python3.8/site-packages/sklearn/utils/validation.py:1111: DataConversionWarning: A column-vector y was passed when a 1d array was expected. Please change the shape of y to (n_samples, ), for example using ravel().\n  y = column_or_1d(y, warn=True)\n/anaconda/envs/ngm/lib/python3.8/site-packages/sklearn/utils/validation.py:1111: DataConversionWarning: A column-vector y was passed when a 1d array was expected. Please change the shape of y to (n_samples, ), for example using ravel().\n  y = column_or_1d(y, warn=True)\n/anaconda/envs/ngm/lib/python3.8/site-packages/sklearn/utils/validation.py:1111: DataConversionWarning: A column-vector y was passed when a 1d array was expected. Please change the shape of y to (n_samples, ), for example using ravel().\n  y = column_or_1d(y, warn=True)\n/anaconda/envs/ngm/lib/python3.8/site-packages/sklearn/utils/validation.py:1111: DataConversionWarning: A column-vector y was passed when a 1d array was expected. Please change the shape of y to (n_samples, ), for example using ravel().\n  y = column_or_1d(y, warn=True)\n/anaconda/envs/ngm/lib/python3.8/site-packages/sklearn/utils/validation.py:1111: DataConversionWarning: A column-vector y was passed when a 1d array was expected. Please change the shape of y to (n_samples, ), for example using ravel().\n  y = column_or_1d(y, warn=True)\n/anaconda/envs/ngm/lib/python3.8/site-packages/sklearn/utils/validation.py:1111: DataConversionWarning: A column-vector y was passed when a 1d array was expected. Please change the shape of y to (n_samples, ), for example using ravel().\n  y = column_or_1d(y, warn=True)\n/anaconda/envs/ngm/lib/python3.8/site-packages/sklearn/utils/validation.py:1111: DataConversionWarning: A column-vector y was passed when a 1d array was expected. Please change the shape of y to (n_samples, ), for example using ravel().\n  y = column_or_1d(y, warn=True)\n/anaconda/envs/ngm/lib/python3.8/site-packages/sklearn/utils/validation.py:1111: DataConversionWarning: A column-vector y was passed when a 1d array was expected. Please change the shape of y to (n_samples, ), for example using ravel().\n  y = column_or_1d(y, warn=True)\n/anaconda/envs/ngm/lib/python3.8/site-packages/sklearn/utils/validation.py:1111: DataConversionWarning: A column-vector y was passed when a 1d array was expected. Please change the shape of y to (n_samples, ), for example using ravel().\n  y = column_or_1d(y, warn=True)\n/anaconda/envs/ngm/lib/python3.8/site-packages/sklearn/utils/validation.py:1111: DataConversionWarning: A column-vector y was passed when a 1d array was expected. Please change the shape of y to (n_samples, ), for example using ravel().\n  y = column_or_1d(y, warn=True)\n/anaconda/envs/ngm/lib/python3.8/site-packages/sklearn/utils/validation.py:1111: DataConversionWarning: A column-vector y was passed when a 1d array was expected. Please change the shape of y to (n_samples, ), for example using ravel().\n  y = column_or_1d(y, warn=True)\n/anaconda/envs/ngm/lib/python3.8/site-packages/sklearn/utils/validation.py:1111: DataConversionWarning: A column-vector y was passed when a 1d array was expected. Please change the shape of y to (n_samples, ), for example using ravel().\n  y = column_or_1d(y, warn=True)\n/anaconda/envs/ngm/lib/python3.8/site-packages/sklearn/utils/validation.py:1111: DataConversionWarning: A column-vector y was passed when a 1d array was expected. Please change the shape of y to (n_samples, ), for example using ravel().\n  y = column_or_1d(y, warn=True)\n/anaconda/envs/ngm/lib/python3.8/site-packages/sklearn/utils/validation.py:1111: DataConversionWarning: A column-vector y was passed when a 1d array was expected. Please change the shape of y to (n_samples, ), for example using ravel().\n  y = column_or_1d(y, warn=True)\n/anaconda/envs/ngm/lib/python3.8/site-packages/sklearn/utils/validation.py:1111: DataConversionWarning: A column-vector y was passed when a 1d array was expected. Please change the shape of y to (n_samples, ), for example using ravel().\n  y = column_or_1d(y, warn=True)\n/anaconda/envs/ngm/lib/python3.8/site-packages/sklearn/utils/validation.py:1111: DataConversionWarning: A column-vector y was passed when a 1d array was expected. Please change the shape of y to (n_samples, ), for example using ravel().\n  y = column_or_1d(y, warn=True)\n/anaconda/envs/ngm/lib/python3.8/site-packages/sklearn/utils/validation.py:1111: DataConversionWarning: A column-vector y was passed when a 1d array was expected. Please change the shape of y to (n_samples, ), for example using ravel().\n  y = column_or_1d(y, warn=True)\n/anaconda/envs/ngm/lib/python3.8/site-packages/sklearn/utils/validation.py:1111: DataConversionWarning: A column-vector y was passed when a 1d array was expected. Please change the shape of y to (n_samples, ), for example using ravel().\n  y = column_or_1d(y, warn=True)\n/anaconda/envs/ngm/lib/python3.8/site-packages/sklearn/utils/validation.py:1111: DataConversionWarning: A column-vector y was passed when a 1d array was expected. Please change the shape of y to (n_samples, ), for example using ravel().\n  y = column_or_1d(y, warn=True)\n/anaconda/envs/ngm/lib/python3.8/site-packages/sklearn/utils/validation.py:1111: DataConversionWarning: A column-vector y was passed when a 1d array was expected. Please change the shape of y to (n_samples, ), for example using ravel().\n  y = column_or_1d(y, warn=True)\n/anaconda/envs/ngm/lib/python3.8/site-packages/sklearn/utils/validation.py:1111: DataConversionWarning: A column-vector y was passed when a 1d array was expected. Please change the shape of y to (n_samples, ), for example using ravel().\n  y = column_or_1d(y, warn=True)\n/anaconda/envs/ngm/lib/python3.8/site-packages/sklearn/utils/validation.py:1111: DataConversionWarning: A column-vector y was passed when a 1d array was expected. Please change the shape of y to (n_samples, ), for example using ravel().\n  y = column_or_1d(y, warn=True)\n/anaconda/envs/ngm/lib/python3.8/site-packages/sklearn/utils/validation.py:1111: DataConversionWarning: A column-vector y was passed when a 1d array was expected. Please change the shape of y to (n_samples, ), for example using ravel().\n  y = column_or_1d(y, warn=True)\n/anaconda/envs/ngm/lib/python3.8/site-packages/sklearn/utils/validation.py:1111: DataConversionWarning: A column-vector y was passed when a 1d array was expected. Please change the shape of y to (n_samples, ), for example using ravel().\n  y = column_or_1d(y, warn=True)\n/anaconda/envs/ngm/lib/python3.8/site-packages/sklearn/utils/validation.py:1111: DataConversionWarning: A column-vector y was passed when a 1d array was expected. Please change the shape of y to (n_samples, ), for example using ravel().\n  y = column_or_1d(y, warn=True)\n/anaconda/envs/ngm/lib/python3.8/site-packages/sklearn/utils/validation.py:1111: DataConversionWarning: A column-vector y was passed when a 1d array was expected. Please change the shape of y to (n_samples, ), for example using ravel().\n  y = column_or_1d(y, warn=True)\n/anaconda/envs/ngm/lib/python3.8/site-packages/sklearn/utils/validation.py:1111: DataConversionWarning: A column-vector y was passed when a 1d array was expected. Please change the shape of y to (n_samples, ), for example using ravel().\n  y = column_or_1d(y, warn=True)\n/anaconda/envs/ngm/lib/python3.8/site-packages/sklearn/utils/validation.py:1111: DataConversionWarning: A column-vector y was passed when a 1d array was expected. Please change the shape of y to (n_samples, ), for example using ravel().\n  y = column_or_1d(y, warn=True)\n/anaconda/envs/ngm/lib/python3.8/site-packages/sklearn/utils/validation.py:1111: DataConversionWarning: A column-vector y was passed when a 1d array was expected. Please change the shape of y to (n_samples, ), for example using ravel().\n  y = column_or_1d(y, warn=True)\n/anaconda/envs/ngm/lib/python3.8/site-packages/sklearn/utils/validation.py:1111: DataConversionWarning: A column-vector y was passed when a 1d array was expected. Please change the shape of y to (n_samples, ), for example using ravel().\n  y = column_or_1d(y, warn=True)\n/anaconda/envs/ngm/lib/python3.8/site-packages/sklearn/utils/validation.py:1111: DataConversionWarning: A column-vector y was passed when a 1d array was expected. Please change the shape of y to (n_samples, ), for example using ravel().\n  y = column_or_1d(y, warn=True)\n/anaconda/envs/ngm/lib/python3.8/site-packages/sklearn/utils/validation.py:1111: DataConversionWarning: A column-vector y was passed when a 1d array was expected. Please change the shape of y to (n_samples, ), for example using ravel().\n  y = column_or_1d(y, warn=True)\n/anaconda/envs/ngm/lib/python3.8/site-packages/sklearn/utils/validation.py:1111: DataConversionWarning: A column-vector y was passed when a 1d array was expected. Please change the shape of y to (n_samples, ), for example using ravel().\n  y = column_or_1d(y, warn=True)\n/anaconda/envs/ngm/lib/python3.8/site-packages/sklearn/utils/validation.py:1111: DataConversionWarning: A column-vector y was passed when a 1d array was expected. Please change the shape of y to (n_samples, ), for example using ravel().\n  y = column_or_1d(y, warn=True)\n/anaconda/envs/ngm/lib/python3.8/site-packages/sklearn/utils/validation.py:1111: DataConversionWarning: A column-vector y was passed when a 1d array was expected. Please change the shape of y to (n_samples, ), for example using ravel().\n  y = column_or_1d(y, warn=True)\n/anaconda/envs/ngm/lib/python3.8/site-packages/sklearn/utils/validation.py:1111: DataConversionWarning: A column-vector y was passed when a 1d array was expected. Please change the shape of y to (n_samples, ), for example using ravel().\n  y = column_or_1d(y, warn=True)\n/anaconda/envs/ngm/lib/python3.8/site-packages/sklearn/utils/validation.py:1111: DataConversionWarning: A column-vector y was passed when a 1d array was expected. Please change the shape of y to (n_samples, ), for example using ravel().\n  y = column_or_1d(y, warn=True)\n/anaconda/envs/ngm/lib/python3.8/site-packages/sklearn/utils/validation.py:1111: DataConversionWarning: A column-vector y was passed when a 1d array was expected. Please change the shape of y to (n_samples, ), for example using ravel().\n  y = column_or_1d(y, warn=True)\n/anaconda/envs/ngm/lib/python3.8/site-packages/sklearn/utils/validation.py:1111: DataConversionWarning: A column-vector y was passed when a 1d array was expected. Please change the shape of y to (n_samples, ), for example using ravel().\n  y = column_or_1d(y, warn=True)\n/anaconda/envs/ngm/lib/python3.8/site-packages/sklearn/utils/validation.py:1111: DataConversionWarning: A column-vector y was passed when a 1d array was expected. Please change the shape of y to (n_samples, ), for example using ravel().\n  y = column_or_1d(y, warn=True)\n/anaconda/envs/ngm/lib/python3.8/site-packages/sklearn/utils/validation.py:1111: DataConversionWarning: A column-vector y was passed when a 1d array was expected. Please change the shape of y to (n_samples, ), for example using ravel().\n  y = column_or_1d(y, warn=True)\n/anaconda/envs/ngm/lib/python3.8/site-packages/sklearn/utils/validation.py:1111: DataConversionWarning: A column-vector y was passed when a 1d array was expected. Please change the shape of y to (n_samples, ), for example using ravel().\n  y = column_or_1d(y, warn=True)\n/anaconda/envs/ngm/lib/python3.8/site-packages/sklearn/utils/validation.py:1111: DataConversionWarning: A column-vector y was passed when a 1d array was expected. Please change the shape of y to (n_samples, ), for example using ravel().\n  y = column_or_1d(y, warn=True)\n/anaconda/envs/ngm/lib/python3.8/site-packages/sklearn/utils/validation.py:1111: DataConversionWarning: A column-vector y was passed when a 1d array was expected. Please change the shape of y to (n_samples, ), for example using ravel().\n  y = column_or_1d(y, warn=True)\n/anaconda/envs/ngm/lib/python3.8/site-packages/sklearn/utils/validation.py:1111: DataConversionWarning: A column-vector y was passed when a 1d array was expected. Please change the shape of y to (n_samples, ), for example using ravel().\n  y = column_or_1d(y, warn=True)\n/anaconda/envs/ngm/lib/python3.8/site-packages/sklearn/utils/validation.py:1111: DataConversionWarning: A column-vector y was passed when a 1d array was expected. Please change the shape of y to (n_samples, ), for example using ravel().\n  y = column_or_1d(y, warn=True)\n/anaconda/envs/ngm/lib/python3.8/site-packages/sklearn/utils/validation.py:1111: DataConversionWarning: A column-vector y was passed when a 1d array was expected. Please change the shape of y to (n_samples, ), for example using ravel().\n  y = column_or_1d(y, warn=True)\n/anaconda/envs/ngm/lib/python3.8/site-packages/sklearn/utils/validation.py:1111: DataConversionWarning: A column-vector y was passed when a 1d array was expected. Please change the shape of y to (n_samples, ), for example using ravel().\n  y = column_or_1d(y, warn=True)\n/anaconda/envs/ngm/lib/python3.8/site-packages/sklearn/utils/validation.py:1111: DataConversionWarning: A column-vector y was passed when a 1d array was expected. Please change the shape of y to (n_samples, ), for example using ravel().\n  y = column_or_1d(y, warn=True)\n/anaconda/envs/ngm/lib/python3.8/site-packages/sklearn/utils/validation.py:1111: DataConversionWarning: A column-vector y was passed when a 1d array was expected. Please change the shape of y to (n_samples, ), for example using ravel().\n  y = column_or_1d(y, warn=True)\n/anaconda/envs/ngm/lib/python3.8/site-packages/sklearn/utils/validation.py:1111: DataConversionWarning: A column-vector y was passed when a 1d array was expected. Please change the shape of y to (n_samples, ), for example using ravel().\n  y = column_or_1d(y, warn=True)\n/anaconda/envs/ngm/lib/python3.8/site-packages/sklearn/utils/validation.py:1111: DataConversionWarning: A column-vector y was passed when a 1d array was expected. Please change the shape of y to (n_samples, ), for example using ravel().\n  y = column_or_1d(y, warn=True)\n/anaconda/envs/ngm/lib/python3.8/site-packages/sklearn/utils/validation.py:1111: DataConversionWarning: A column-vector y was passed when a 1d array was expected. Please change the shape of y to (n_samples, ), for example using ravel().\n  y = column_or_1d(y, warn=True)\n/anaconda/envs/ngm/lib/python3.8/site-packages/sklearn/utils/validation.py:1111: DataConversionWarning: A column-vector y was passed when a 1d array was expected. Please change the shape of y to (n_samples, ), for example using ravel().\n  y = column_or_1d(y, warn=True)\n/anaconda/envs/ngm/lib/python3.8/site-packages/sklearn/utils/validation.py:1111: DataConversionWarning: A column-vector y was passed when a 1d array was expected. Please change the shape of y to (n_samples, ), for example using ravel().\n  y = column_or_1d(y, warn=True)\n/anaconda/envs/ngm/lib/python3.8/site-packages/sklearn/utils/validation.py:1111: DataConversionWarning: A column-vector y was passed when a 1d array was expected. Please change the shape of y to (n_samples, ), for example using ravel().\n  y = column_or_1d(y, warn=True)\n/anaconda/envs/ngm/lib/python3.8/site-packages/sklearn/utils/validation.py:1111: DataConversionWarning: A column-vector y was passed when a 1d array was expected. Please change the shape of y to (n_samples, ), for example using ravel().\n  y = column_or_1d(y, warn=True)\n/anaconda/envs/ngm/lib/python3.8/site-packages/sklearn/utils/validation.py:1111: DataConversionWarning: A column-vector y was passed when a 1d array was expected. Please change the shape of y to (n_samples, ), for example using ravel().\n  y = column_or_1d(y, warn=True)\n/anaconda/envs/ngm/lib/python3.8/site-packages/sklearn/utils/validation.py:1111: DataConversionWarning: A column-vector y was passed when a 1d array was expected. Please change the shape of y to (n_samples, ), for example using ravel().\n  y = column_or_1d(y, warn=True)\n/anaconda/envs/ngm/lib/python3.8/site-packages/sklearn/utils/validation.py:1111: DataConversionWarning: A column-vector y was passed when a 1d array was expected. Please change the shape of y to (n_samples, ), for example using ravel().\n  y = column_or_1d(y, warn=True)\n/anaconda/envs/ngm/lib/python3.8/site-packages/sklearn/utils/validation.py:1111: DataConversionWarning: A column-vector y was passed when a 1d array was expected. Please change the shape of y to (n_samples, ), for example using ravel().\n  y = column_or_1d(y, warn=True)\n/anaconda/envs/ngm/lib/python3.8/site-packages/sklearn/utils/validation.py:1111: DataConversionWarning: A column-vector y was passed when a 1d array was expected. Please change the shape of y to (n_samples, ), for example using ravel().\n  y = column_or_1d(y, warn=True)\n/anaconda/envs/ngm/lib/python3.8/site-packages/sklearn/utils/validation.py:1111: DataConversionWarning: A column-vector y was passed when a 1d array was expected. Please change the shape of y to (n_samples, ), for example using ravel().\n  y = column_or_1d(y, warn=True)\n/anaconda/envs/ngm/lib/python3.8/site-packages/sklearn/utils/validation.py:1111: DataConversionWarning: A column-vector y was passed when a 1d array was expected. Please change the shape of y to (n_samples, ), for example using ravel().\n  y = column_or_1d(y, warn=True)\n/anaconda/envs/ngm/lib/python3.8/site-packages/sklearn/utils/validation.py:1111: DataConversionWarning: A column-vector y was passed when a 1d array was expected. Please change the shape of y to (n_samples, ), for example using ravel().\n  y = column_or_1d(y, warn=True)\n/anaconda/envs/ngm/lib/python3.8/site-packages/sklearn/utils/validation.py:1111: DataConversionWarning: A column-vector y was passed when a 1d array was expected. Please change the shape of y to (n_samples, ), for example using ravel().\n  y = column_or_1d(y, warn=True)\n/anaconda/envs/ngm/lib/python3.8/site-packages/sklearn/utils/validation.py:1111: DataConversionWarning: A column-vector y was passed when a 1d array was expected. Please change the shape of y to (n_samples, ), for example using ravel().\n  y = column_or_1d(y, warn=True)\n/anaconda/envs/ngm/lib/python3.8/site-packages/sklearn/utils/validation.py:1111: DataConversionWarning: A column-vector y was passed when a 1d array was expected. Please change the shape of y to (n_samples, ), for example using ravel().\n  y = column_or_1d(y, warn=True)\n/anaconda/envs/ngm/lib/python3.8/site-packages/sklearn/utils/validation.py:1111: DataConversionWarning: A column-vector y was passed when a 1d array was expected. Please change the shape of y to (n_samples, ), for example using ravel().\n  y = column_or_1d(y, warn=True)\n/anaconda/envs/ngm/lib/python3.8/site-packages/sklearn/utils/validation.py:1111: DataConversionWarning: A column-vector y was passed when a 1d array was expected. Please change the shape of y to (n_samples, ), for example using ravel().\n  y = column_or_1d(y, warn=True)\n/anaconda/envs/ngm/lib/python3.8/site-packages/sklearn/utils/validation.py:1111: DataConversionWarning: A column-vector y was passed when a 1d array was expected. Please change the shape of y to (n_samples, ), for example using ravel().\n  y = column_or_1d(y, warn=True)\n/anaconda/envs/ngm/lib/python3.8/site-packages/sklearn/utils/validation.py:1111: DataConversionWarning: A column-vector y was passed when a 1d array was expected. Please change the shape of y to (n_samples, ), for example using ravel().\n  y = column_or_1d(y, warn=True)\n/anaconda/envs/ngm/lib/python3.8/site-packages/sklearn/utils/validation.py:1111: DataConversionWarning: A column-vector y was passed when a 1d array was expected. Please change the shape of y to (n_samples, ), for example using ravel().\n  y = column_or_1d(y, warn=True)\n/anaconda/envs/ngm/lib/python3.8/site-packages/sklearn/utils/validation.py:1111: DataConversionWarning: A column-vector y was passed when a 1d array was expected. Please change the shape of y to (n_samples, ), for example using ravel().\n  y = column_or_1d(y, warn=True)\n/anaconda/envs/ngm/lib/python3.8/site-packages/sklearn/utils/validation.py:1111: DataConversionWarning: A column-vector y was passed when a 1d array was expected. Please change the shape of y to (n_samples, ), for example using ravel().\n  y = column_or_1d(y, warn=True)\n/anaconda/envs/ngm/lib/python3.8/site-packages/sklearn/utils/validation.py:1111: DataConversionWarning: A column-vector y was passed when a 1d array was expected. Please change the shape of y to (n_samples, ), for example using ravel().\n  y = column_or_1d(y, warn=True)\n/anaconda/envs/ngm/lib/python3.8/site-packages/sklearn/utils/validation.py:1111: DataConversionWarning: A column-vector y was passed when a 1d array was expected. Please change the shape of y to (n_samples, ), for example using ravel().\n  y = column_or_1d(y, warn=True)\n/anaconda/envs/ngm/lib/python3.8/site-packages/sklearn/utils/validation.py:1111: DataConversionWarning: A column-vector y was passed when a 1d array was expected. Please change the shape of y to (n_samples, ), for example using ravel().\n  y = column_or_1d(y, warn=True)\n/anaconda/envs/ngm/lib/python3.8/site-packages/sklearn/utils/validation.py:1111: DataConversionWarning: A column-vector y was passed when a 1d array was expected. Please change the shape of y to (n_samples, ), for example using ravel().\n  y = column_or_1d(y, warn=True)\n/anaconda/envs/ngm/lib/python3.8/site-packages/sklearn/utils/validation.py:1111: DataConversionWarning: A column-vector y was passed when a 1d array was expected. Please change the shape of y to (n_samples, ), for example using ravel().\n  y = column_or_1d(y, warn=True)\n/anaconda/envs/ngm/lib/python3.8/site-packages/sklearn/utils/validation.py:1111: DataConversionWarning: A column-vector y was passed when a 1d array was expected. Please change the shape of y to (n_samples, ), for example using ravel().\n  y = column_or_1d(y, warn=True)\n/anaconda/envs/ngm/lib/python3.8/site-packages/sklearn/utils/validation.py:1111: DataConversionWarning: A column-vector y was passed when a 1d array was expected. Please change the shape of y to (n_samples, ), for example using ravel().\n  y = column_or_1d(y, warn=True)\n/anaconda/envs/ngm/lib/python3.8/site-packages/sklearn/utils/validation.py:1111: DataConversionWarning: A column-vector y was passed when a 1d array was expected. Please change the shape of y to (n_samples, ), for example using ravel().\n  y = column_or_1d(y, warn=True)\n/anaconda/envs/ngm/lib/python3.8/site-packages/sklearn/utils/validation.py:1111: DataConversionWarning: A column-vector y was passed when a 1d array was expected. Please change the shape of y to (n_samples, ), for example using ravel().\n  y = column_or_1d(y, warn=True)\n"
        }
      ],
      "execution_count": 24,
      "metadata": {
        "jupyter": {
          "source_hidden": false,
          "outputs_hidden": false
        },
        "nteract": {
          "transient": {
            "deleting": false
          }
        },
        "gather": {
          "logged": 1681861980712
        }
      }
    },
    {
      "cell_type": "code",
      "source": [],
      "outputs": [],
      "execution_count": null,
      "metadata": {
        "jupyter": {
          "source_hidden": false,
          "outputs_hidden": false
        },
        "nteract": {
          "transient": {
            "deleting": false
          }
        }
      }
    },
    {
      "cell_type": "code",
      "source": [],
      "outputs": [],
      "execution_count": null,
      "metadata": {
        "jupyter": {
          "source_hidden": false,
          "outputs_hidden": false
        },
        "nteract": {
          "transient": {
            "deleting": false
          }
        }
      }
    },
    {
      "cell_type": "code",
      "source": [],
      "outputs": [],
      "execution_count": null,
      "metadata": {
        "jupyter": {
          "source_hidden": false,
          "outputs_hidden": false
        },
        "nteract": {
          "transient": {
            "deleting": false
          }
        }
      }
    },
    {
      "cell_type": "code",
      "source": [],
      "outputs": [],
      "execution_count": null,
      "metadata": {
        "jupyter": {
          "source_hidden": false,
          "outputs_hidden": false
        },
        "nteract": {
          "transient": {
            "deleting": false
          }
        }
      }
    }
  ],
  "metadata": {
    "kernelspec": {
      "name": "ngm",
      "language": "python",
      "display_name": "ngm"
    },
    "language_info": {
      "name": "python",
      "version": "3.8.13",
      "mimetype": "text/x-python",
      "codemirror_mode": {
        "name": "ipython",
        "version": 3
      },
      "pygments_lexer": "ipython3",
      "nbconvert_exporter": "python",
      "file_extension": ".py"
    },
    "orig_nbformat": 4,
    "microsoft": {
      "ms_spell_check": {
        "ms_spell_check_language": "en"
      },
      "host": {
        "AzureML": {
          "notebookHasBeenCompleted": true
        }
      }
    },
    "kernel_info": {
      "name": "ngm"
    },
    "nteract": {
      "version": "nteract-front-end@1.0.0"
    }
  },
  "nbformat": 4,
  "nbformat_minor": 2
}
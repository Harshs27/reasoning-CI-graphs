{
 "cells": [
  {
   "cell_type": "code",
   "execution_count": null,
   "metadata": {},
   "outputs": [],
   "source": [
    "import os, sys\n",
    "# reloads modules automatically before entering the \n",
    "# execution of code typed at the IPython prompt.\n",
    "%load_ext autoreload\n",
    "%autoreload 2\n",
    "# install jupyter-notebook in the env if the prefix does not \n",
    "# show the desired virtual env. \n",
    "print(sys.prefix)"
   ]
  },
  {
   "cell_type": "markdown",
   "metadata": {},
   "source": [
    "### Loading a toy data\n",
    "- This is a sample conditional independence graph from a Digester to understand anaerobic digestion\n",
    "- This graph was obtained by running CI graph recovery algorithm: `uGLAD` (https://github.com/Harshs27/uGLAD)"
   ]
  },
  {
   "cell_type": "code",
   "execution_count": 2,
   "metadata": {},
   "outputs": [],
   "source": [
    "graph_edges = \"['(Methanobacterium, Methanobrevibacter, -2.52293, red)', '(Methanobacterium, Methanofastidiosales, -0.8848, red)', '(Methanobacterium, Methanolinea, 0.59272, green)', '(Methanobacterium, Methanosarcina, -0.44808, red)', '(Methanobacterium, SCGC_AAA011-D5, 0.32897, green)', '(Methanobacterium, CapacityPopulationEquivalents, 0.34602, green)', '(Methanobacterium, NbrOfSamples, -0.71681, red)', '(Methanobacterium, TotalVolm3, -0.45513, red)', '(Methanobacterium, VS_pcTS, -0.60485, red)', '(Methanobrevibacter, Methanofastidiosales, -0.32506, red)', '(Methanobrevibacter, Methanolinea, -0.42702, red)', '(Methanobrevibacter, Methanospirillum, 1.09727, green)', '(Methanobrevibacter, Methanosarcina, 1.49091, green)', '(Methanobrevibacter, Alkalinity_mM, -0.40019, red)', '(Methanobrevibacter, NbrOfDigesters, 0.45318, green)', '(Methanobrevibacter, NbrOfSamples, 0.4949, green)', '(Methanobrevibacter, TotalVolm3, 0.46675, green)', '(Methanobrevibacter, VS_pcTS, 1.26328, green)', '(Methanofastidiosales, Methanolinea, -1.17987, red)', '(Methanofastidiosales, Methanospirillum, -0.61516, red)', '(Methanofastidiosales, SCGC_AAA011-D5, 0.40698, green)', '(Methanofastidiosales, Alkalinity_mM, 0.78843, green)', '(Methanofastidiosales, CapacityPopulationEquivalents, -0.29795, red)', '(Methanofastidiosales, NbrOfSamples, 0.64127, green)', '(Methanofastidiosales, TotalVolm3, 0.87654, green)', '(Methanofastidiosales, VS_pcTS, -0.74127, red)', '(Methanolinea, Methanospirillum, -0.56082, red)', '(Methanolinea, CapacityPopulationEquivalents, 0.6312, green)', '(Methanolinea, NbrOfDigesters, -0.29239, red)', '(Methanolinea, NbrOfSamples, -0.72554, red)', '(Methanolinea, TotalVolm3, -1.35613, red)', '(Methanospirillum, SCGC_AAA011-D5, 1.10317, green)', '(Methanospirillum, Alkalinity_mM, 1.3745, green)', '(Methanospirillum, CapacityPopulationEquivalents, -0.44632, red)', '(Methanospirillum, NbrOfDigesters, 0.73035, green)', '(Methanospirillum, NbrOfSamples, 0.39308, green)', '(Methanospirillum, VS_pcTS, -0.86939, red)', '(Methanosarcina, Alkalinity_mM, -2.16878, red)', '(Methanosarcina, VS_pcTS, 3.04518, green)', '(SCGC_AAA011-D5, Alkalinity_mM, 1.43389, green)', '(SCGC_AAA011-D5, CapacityPopulationEquivalents, -0.43911, red)', '(SCGC_AAA011-D5, IndustrialLoad, 0.32953, green)', '(SCGC_AAA011-D5, NbrOfSamples, 0.39082, green)', '(SCGC_AAA011-D5, TotalVolm3, 0.62239, green)', '(SCGC_AAA011-D5, VS_pcTS, -1.18013, red)', '(Alkalinity_mM, CapacityPopulationEquivalents, -1.80922, red)', '(Alkalinity_mM, IndustrialLoad, 0.36911, green)', '(Alkalinity_mM, NbrOfDigesters, 1.66769, green)', '(Alkalinity_mM, NbrOfSamples, 0.58446, green)', '(Alkalinity_mM, TotalVolm3, 1.53111, green)', '(Alkalinity_mM, VS_pcTS, -5.0, red)', '(CapacityPopulationEquivalents, IndustrialLoad, -0.71782, red)', '(CapacityPopulationEquivalents, NbrOfDigesters, -1.29889, red)', '(CapacityPopulationEquivalents, TotalVolm3, -2.26488, red)', '(CapacityPopulationEquivalents, VS_pcTS, 1.12191, green)', '(IndustrialLoad, NbrOfDigesters, 0.30582, green)', '(IndustrialLoad, TotalVolm3, 0.82757, green)', '(IndustrialLoad, VS_pcTS, -0.53761, red)', '(NbrOfDigesters, VS_pcTS, -1.19335, red)', '(NbrOfSamples, TotalVolm3, 0.74846, green)', '(NbrOfSamples, VS_pcTS, -0.48292, red)', '(TotalVolm3, VS_pcTS, -0.98417, red)']\""
   ]
  },
  {
   "cell_type": "markdown",
   "metadata": {},
   "source": [
    "## Installing additional libraries"
   ]
  },
  {
   "cell_type": "code",
   "execution_count": 3,
   "metadata": {},
   "outputs": [],
   "source": [
    "%%capture\n",
    "# Import libraries\n",
    "import networkx as nx\n",
    "from pyvis import network as net"
   ]
  },
  {
   "cell_type": "markdown",
   "metadata": {},
   "source": [
    "### Running interactive visualization"
   ]
  },
  {
   "cell_type": "code",
   "execution_count": 4,
   "metadata": {
    "scrolled": false
   },
   "outputs": [
    {
     "data": {
      "text/html": [
       "\n",
       "        <iframe\n",
       "            width=\"100%\"\n",
       "            height=\"750px\"\n",
       "            src=\"viz_DA.html\"\n",
       "            frameborder=\"0\"\n",
       "            allowfullscreen\n",
       "            \n",
       "        ></iframe>\n",
       "        "
      ],
      "text/plain": [
       "<IPython.lib.display.IFrame at 0x7f7f601730a0>"
      ]
     },
     "execution_count": 4,
     "metadata": {},
     "output_type": "execute_result"
    }
   ],
   "source": [
    "from algorithms import utils\n",
    "G = utils.retrieve_graph(graph_edges)\n",
    "Gv = utils.get_interactive_graph(G, 'Digester-Analytics')\n",
    "Gv.show('viz_DA.html')"
   ]
  },
  {
   "cell_type": "markdown",
   "metadata": {},
   "source": [
    "### The graph object can be utilized for further downstream analysis "
   ]
  },
  {
   "cell_type": "code",
   "execution_count": 5,
   "metadata": {},
   "outputs": [
    {
     "data": {
      "text/plain": [
       "<networkx.classes.graph.Graph at 0x7f7f607c4910>"
      ]
     },
     "execution_count": 5,
     "metadata": {},
     "output_type": "execute_result"
    }
   ],
   "source": [
    "G"
   ]
  },
  {
   "cell_type": "markdown",
   "metadata": {},
   "source": [
    "### Knowledge Propagation (Analytical & Iterative)"
   ]
  },
  {
   "cell_type": "code",
   "execution_count": 6,
   "metadata": {},
   "outputs": [
    {
     "name": "stdout",
     "output_type": "stream",
     "text": [
      "Initial node attributes {'Methanobacterium': 'methanogenesis', 'Methanobrevibacter': 'acetogenesis', 'Methanofastidiosales': 'u', 'Methanolinea': 'u', 'Methanosarcina': 'u', 'SCGC_AAA011-D5': 'u', 'CapacityPopulationEquivalents': 'u', 'NbrOfSamples': 'u', 'TotalVolm3': 'u', 'VS_pcTS': 'u', 'Methanospirillum': 'hydrolysis', 'Alkalinity_mM': 'u', 'NbrOfDigesters': 'u', 'IndustrialLoad': 'acidogenesis'}\n",
      "\n",
      "Running the analytical method\n",
      "Prediction:\n",
      "Distribution                               acetogenesis  acidogenesis  hydrolysis  \\\n",
      "Methanobacterium                   0.000000      0.000000    0.000000   \n",
      "Methanobrevibacter                 1.000000      0.000000    0.000000   \n",
      "Methanofastidiosales               0.295399      0.257354    0.279308   \n",
      "Methanolinea                       0.276767      0.221703    0.225907   \n",
      "Methanosarcina                     0.468212      0.180462    0.199574   \n",
      "SCGC_AAA011-D5                     0.242651      0.223327    0.349118   \n",
      "CapacityPopulationEquivalents      0.344873      0.186657    0.222099   \n",
      "NbrOfSamples                       0.318396      0.227746    0.297465   \n",
      "TotalVolm3                         0.286666      0.281935    0.277901   \n",
      "VS_pcTS                            0.474819      0.176070    0.190663   \n",
      "Methanospirillum                   0.000000      0.000000    1.000000   \n",
      "Alkalinity_mM                      0.229786      0.232251    0.372655   \n",
      "NbrOfDigesters                     0.274948      0.228556    0.325666   \n",
      "IndustrialLoad                     0.000000      1.000000    0.000000   \n",
      "\n",
      "                               methanogenesis  \n",
      "Methanobacterium                     1.000000  \n",
      "Methanobrevibacter                   0.000000  \n",
      "Methanofastidiosales                 0.167939  \n",
      "Methanolinea                         0.275623  \n",
      "Methanosarcina                       0.151752  \n",
      "SCGC_AAA011-D5                       0.184904  \n",
      "CapacityPopulationEquivalents        0.246371  \n",
      "NbrOfSamples                         0.156394  \n",
      "TotalVolm3                           0.153499  \n",
      "VS_pcTS                              0.158448  \n",
      "Methanospirillum                     0.000000  \n",
      "Alkalinity_mM                        0.165307  \n",
      "NbrOfDigesters                       0.170830  \n",
      "IndustrialLoad                       0.000000  \n",
      "\n",
      "Categories{'Methanobacterium': 'methanogenesis', 'Methanobrevibacter': 'acetogenesis', 'Methanofastidiosales': 'acetogenesis', 'Methanolinea': 'acetogenesis', 'Methanosarcina': 'acetogenesis', 'SCGC_AAA011-D5': 'hydrolysis', 'CapacityPopulationEquivalents': 'acetogenesis', 'NbrOfSamples': 'acetogenesis', 'TotalVolm3': 'acetogenesis', 'VS_pcTS': 'acetogenesis', 'Methanospirillum': 'hydrolysis', 'Alkalinity_mM': 'hydrolysis', 'NbrOfDigesters': 'hydrolysis', 'IndustrialLoad': 'acidogenesis'}\n"
     ]
    },
    {
     "name": "stderr",
     "output_type": "stream",
     "text": [
      "/mnt/d/research/graphs/reasoning-CI-graphs/algorithms/knowledge_propagation.py:36: FutureWarning: adjacency_matrix will return a scipy.sparse array instead of a matrix in Networkx 3.0.\n",
      "  theta = nx.adjacency_matrix(G).todense()\n"
     ]
    }
   ],
   "source": [
    "from algorithms import knowledge_propagation as kp\n",
    "\n",
    "# Get the precision matrix from the recovered sparse graph\n",
    "theta = kp.get_precision_matrix_from_graph(G)\n",
    "\n",
    "# creating the node attribute dictionary\n",
    "unknown_cat = 'u'\n",
    "\n",
    "node_attribute_dict = {n:unknown_cat for n in G.nodes()}\n",
    "# setting the known classes (randomly assigning )\n",
    "node_attribute_known = {\n",
    "    'Methanobacterium': 'methanogenesis', \n",
    "    'Methanobrevibacter': 'acetogenesis', \n",
    "    'Methanospirillum':'hydrolysis', \n",
    "    'IndustrialLoad': 'acidogenesis'\n",
    "}\n",
    "\n",
    "node_attribute_dict = kp.set_node_attributes(node_attribute_dict, node_attribute_known)\n",
    "print(f'Initial node attributes {node_attribute_dict}\\n')\n",
    "\n",
    "# Run the attribute propagation algorithm\n",
    "node_attribute_dict = kp.propagate_attribute(\n",
    "    theta, \n",
    "    node_attribute_dict, \n",
    "    unknown_cat,\n",
    "    method='analytical' #'iterative'\n",
    ")\n",
    "\n",
    "# Updating the node categories with original names\n"
   ]
  },
  {
   "cell_type": "markdown",
   "metadata": {},
   "source": [
    "### Getting the graph with predicted labels"
   ]
  },
  {
   "cell_type": "code",
   "execution_count": 8,
   "metadata": {},
   "outputs": [
    {
     "data": {
      "text/html": [
       "\n",
       "        <iframe\n",
       "            width=\"100%\"\n",
       "            height=\"750px\"\n",
       "            src=\"viz_DA_with_category.html\"\n",
       "            frameborder=\"0\"\n",
       "            allowfullscreen\n",
       "            \n",
       "        ></iframe>\n",
       "        "
      ],
      "text/plain": [
       "<IPython.lib.display.IFrame at 0x7f7ed90a7820>"
      ]
     },
     "execution_count": 8,
     "metadata": {},
     "output_type": "execute_result"
    }
   ],
   "source": [
    "# updating the graph with the category information\n",
    "Gp = G.copy()\n",
    "for n in Gp.nodes():\n",
    "    Gp.nodes[n]['category'] = node_attribute_dict[n]\n",
    "Gv2 = utils.get_interactive_graph(Gp, 'Digester-Analytics predicted categories')\n",
    "Gv2.show('viz_DA_with_category.html')"
   ]
  },
  {
   "cell_type": "markdown",
   "metadata": {},
   "source": [
    "### Running graph analytics"
   ]
  },
  {
   "cell_type": "code",
   "execution_count": 9,
   "metadata": {},
   "outputs": [
    {
     "name": "stdout",
     "output_type": "stream",
     "text": [
      "**Assortativity: -0.19345004790523077\n",
      "   Measures the similarity of connections in the graph with respect to the node degree\n",
      "\n",
      "**Average Clustering: 0.745\n",
      "   The local clustering of each node in G is the fraction of triangles that actually exist over all possible triangles in its neighborhood. The average clustering coefficient of a graph G is the mean of local clusterings.\n",
      "\n",
      "**Max Clique: {'Methanobacterium', 'TotalVolm3', 'Methanobrevibacter', 'Methanolinea', 'Methanofastidiosales', 'NbrOfSamples'}\n",
      "   A maximum clique is a clique of the largest possible size in a given graph. The clique number omega(G) of a graph G is the number of vertices in a maximum clique in G. The intersection number of G is the smallest number of cliques that together cover all edges of G.\n",
      "\n",
      "**Maximum Independent Set: {'IndustrialLoad', 'Methanobacterium', 'Methanospirillum'}\n",
      "   Independent set or stable set is a set of vertices in a graph, no two of which are adjacent. That is, it is a set I of vertices such that for every two vertices in I, there is no edge connecting the two. A maximum independent set is a largest independent set for a given graph G\n",
      "\n"
     ]
    }
   ],
   "source": [
    "def graph_analytics(G):\n",
    "    \"\"\" Run various algorithms to gain insights about\n",
    "    the input graph. \n",
    "    \"\"\"\n",
    "    r1 = nx.degree_assortativity_coefficient(G)\n",
    "    print(f'**Assortativity: {r1}\\n   Measures the similarity of connections in the graph with respect to the node degree\\n')\n",
    "    r2 = nx.algorithms.approximation.average_clustering(G, trials=1000, seed=10)\n",
    "    print(f'**Average Clustering: {r2}\\n   The local clustering of each node in G is the fraction of triangles that actually exist over all possible triangles in its neighborhood. The average clustering coefficient of a graph G is the mean of local clusterings.\\n')\n",
    "    r3 = nx.algorithms.approximation.max_clique(G)\n",
    "    print(f'**Max Clique: {r3}\\n   A maximum clique is a clique of the largest possible size in a given graph. The clique number omega(G) of a graph G is the number of vertices in a maximum clique in G. The intersection number of G is the smallest number of cliques that together cover all edges of G.\\n')\n",
    "    r4 = nx.algorithms.approximation.maximum_independent_set(G)\n",
    "    print(f'**Maximum Independent Set: {r4}\\n   Independent set or stable set is a set of vertices in a graph, no two of which are adjacent. That is, it is a set I of vertices such that for every two vertices in I, there is no edge connecting the two. A maximum independent set is a largest independent set for a given graph G\\n') \n",
    "graph_analytics(G)"
   ]
  },
  {
   "cell_type": "code",
   "execution_count": 10,
   "metadata": {},
   "outputs": [
    {
     "name": "stdout",
     "output_type": "stream",
     "text": [
      "Graph is not bipartite\n"
     ]
    }
   ],
   "source": [
    "def bipartite_analysis(G):\n",
    "    if nx.is_bipartite(G):\n",
    "        left, right = nx.bipartite.sets(G)\n",
    "        print(G.edges(data=True))\n",
    "        G_left = G.subgraph(list(left))#['Methanobacterium', ' Methanobrevibacter'])\n",
    "        G_right = G.subgraph(right)\n",
    "        print(G_left.edges(data=True))\n",
    "        Gl = get_interactive_graph(G_left, 'Bipartite-left')\n",
    "        Gr = get_interactive_graph(G_right, 'Bipartite-right')\n",
    "        return Gl, Gr\n",
    "    else:\n",
    "        print('Graph is not bipartite')\n",
    "        return None, None\n",
    "Gl, Gr = bipartite_analysis(G)\n",
    "# Gl.show('bipartite_left.html')\n",
    "# Gr.show('bipartite_right.html')"
   ]
  },
  {
   "cell_type": "markdown",
   "metadata": {},
   "source": [
    "### Clustering analysis of the recoverd precision matrix"
   ]
  },
  {
   "cell_type": "code",
   "execution_count": 11,
   "metadata": {},
   "outputs": [
    {
     "name": "stderr",
     "output_type": "stream",
     "text": [
      "<ipython-input-11-9c5f6ed0e4bf>:1: FutureWarning: adjacency_matrix will return a scipy.sparse array instead of a matrix in Networkx 3.0.\n",
      "  A = nx.adjacency_matrix(G).todense()\n"
     ]
    }
   ],
   "source": [
    "A = nx.adjacency_matrix(G).todense()"
   ]
  },
  {
   "cell_type": "code",
   "execution_count": 12,
   "metadata": {},
   "outputs": [
    {
     "name": "stdout",
     "output_type": "stream",
     "text": [
      "Initial ordering: [ 0  1  2  3  4  5  6  7  8  9 10 11 12 13]\n",
      "Initial matrix score: 3.9166199999999973\n",
      "Best ordering: [10  1  3  0  5  2  6  7  4  9  8 13 12 11]\n",
      "Best score: 67.78098000000001\n",
      "Cluster     [variables assigned to this cluster]\n",
      "------------------------------------------------\n",
      "Cluster 01  [10  1]\n",
      "Cluster 02  [3 0]\n",
      "Cluster 03  [5 2]\n",
      "Cluster 04  [6 7]\n",
      "Cluster 05  [4 9]\n",
      "Cluster 06  [ 8 13]\n",
      "Cluster 07  [12 11]\n"
     ]
    },
    {
     "data": {
      "image/png": "[encoded data removed]",
      "text/plain": [
       "<Figure size 432x288 with 1 Axes>"
      ]
     },
     "metadata": {
      "needs_background": "light"
     },
     "output_type": "display_data"
    },
    {
     "data": {
      "image/png": "[encoded data removed]",
      "text/plain": [
       "<Figure size 432x288 with 1 Axes>"
      ]
     },
     "metadata": {
      "needs_background": "light"
     },
     "output_type": "display_data"
    }
   ],
   "source": [
    "import numpy as np\n",
    "from matplotlib import pyplot as plt\n",
    "\n",
    "# This generates 100 variables that could possibly be assigned to 5 clusters\n",
    "n_variables = A.shape[0]\n",
    "n_clusters = 7\n",
    "# # To keep this example simple, each cluster will have a fixed size\n",
    "cluster_size = n_variables // n_clusters\n",
    "C = A\n",
    "\n",
    "def score(C):\n",
    "    '''\n",
    "    Function to assign a score to an ordered covariance matrix.\n",
    "    High correlations within a cluster improve the score.\n",
    "    High correlations between clusters decease the score.\n",
    "    '''\n",
    "    score = 0\n",
    "    for cluster in range(n_clusters):\n",
    "        inside_cluster = np.arange(cluster_size) + cluster * cluster_size\n",
    "        outside_cluster = np.setdiff1d(range(n_variables), inside_cluster)\n",
    "\n",
    "        # Belonging to the same cluster\n",
    "        score += np.sum(C[inside_cluster, :][:, inside_cluster])\n",
    "\n",
    "        # Belonging to different clusters\n",
    "        score -= np.sum(C[inside_cluster, :][:, outside_cluster])\n",
    "        score -= np.sum(C[outside_cluster, :][:, inside_cluster])\n",
    "\n",
    "    return score\n",
    "\n",
    "\n",
    "initial_C = C\n",
    "initial_score = score(C)\n",
    "initial_ordering = np.arange(n_variables)\n",
    "\n",
    "plt.figure()\n",
    "plt.imshow(C, interpolation='nearest')\n",
    "plt.title('Initial C')\n",
    "print('Initial ordering:', initial_ordering)\n",
    "print('Initial matrix score:', initial_score)\n",
    "\n",
    "# Pretty dumb greedy optimization algorithm that continuously\n",
    "# swaps rows to improve the score\n",
    "def swap_rows(C, var1, var2):\n",
    "    '''\n",
    "    Function to swap two rows in a covariance matrix,\n",
    "    updating the appropriate columns as well.\n",
    "    '''\n",
    "    D = C.copy()\n",
    "    D[var2, :] = C[var1, :]\n",
    "    D[var1, :] = C[var2, :]\n",
    "\n",
    "    E = D.copy()\n",
    "    E[:, var2] = D[:, var1]\n",
    "    E[:, var1] = D[:, var2]\n",
    "\n",
    "    return E\n",
    "\n",
    "current_C = C\n",
    "current_ordering = initial_ordering\n",
    "current_score = initial_score\n",
    "\n",
    "max_iter = 10000\n",
    "for i in range(max_iter):\n",
    "    # Find the best row swap to make\n",
    "    best_C = current_C\n",
    "    best_ordering = current_ordering\n",
    "    best_score = current_score\n",
    "    for row1 in range(n_variables):\n",
    "        for row2 in range(n_variables):\n",
    "            if row1 == row2:\n",
    "                continue\n",
    "            option_ordering = best_ordering.copy()\n",
    "            option_ordering[row1] = best_ordering[row2]\n",
    "            option_ordering[row2] = best_ordering[row1]\n",
    "            option_C = swap_rows(best_C, row1, row2)\n",
    "            option_score = score(option_C)\n",
    "\n",
    "            if option_score > best_score:\n",
    "                best_C = option_C\n",
    "                best_ordering = option_ordering\n",
    "                best_score = option_score\n",
    "\n",
    "    if best_score > current_score:\n",
    "        # Perform the best row swap\n",
    "        current_C = best_C\n",
    "        current_ordering = best_ordering\n",
    "        current_score = best_score\n",
    "    else:\n",
    "        # No row swap found that improves the solution, we're done\n",
    "        break\n",
    "\n",
    "# Output the result\n",
    "plt.figure()\n",
    "plt.imshow(current_C, interpolation='nearest')\n",
    "plt.title('Best C')\n",
    "print('Best ordering:', current_ordering)\n",
    "print('Best score:', current_score)\n",
    "print('Cluster     [variables assigned to this cluster]')\n",
    "print('------------------------------------------------')\n",
    "for cluster in range(n_clusters):\n",
    "    print('Cluster %02d  %s' % (cluster + 1, current_ordering[cluster*cluster_size:(cluster+1)*cluster_size]))"
   ]
  },
  {
   "cell_type": "code",
   "execution_count": null,
   "metadata": {},
   "outputs": [],
   "source": []
  }
 ],
 "metadata": {
  "kernelspec": {
   "display_name": "ngm",
   "language": "python",
   "name": "ngm"
  },
  "language_info": {
   "codemirror_mode": {
    "name": "ipython",
    "version": 3
   },
   "file_extension": ".py",
   "mimetype": "text/x-python",
   "name": "python",
   "nbconvert_exporter": "python",
   "pygments_lexer": "ipython3",
   "version": "3.8.13"
  }
 },
 "nbformat": 4,
 "nbformat_minor": 5
}
